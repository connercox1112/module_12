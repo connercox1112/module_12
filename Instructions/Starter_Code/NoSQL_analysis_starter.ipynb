{
 "cells": [
  {
   "cell_type": "markdown",
   "id": "9a57c4c6",
   "metadata": {},
   "source": [
    "# Eat Safe, Love"
   ]
  },
  {
   "cell_type": "markdown",
   "id": "064ef857",
   "metadata": {},
   "source": [
    "## Notebook Set Up"
   ]
  },
  {
   "cell_type": "code",
   "execution_count": 1,
   "id": "3ecdd008",
   "metadata": {},
   "outputs": [],
   "source": [
    "# Import dependencies\n",
    "from pymongo import MongoClient\n",
    "from pprint import pprint\n",
    "import pandas as pd"
   ]
  },
  {
   "cell_type": "code",
   "execution_count": 2,
   "id": "59390c4a",
   "metadata": {},
   "outputs": [],
   "source": [
    "# Create an instance of MongoClient\n",
    "mongo = MongoClient(port=27017)"
   ]
  },
  {
   "cell_type": "code",
   "execution_count": 3,
   "id": "71e373c1",
   "metadata": {},
   "outputs": [],
   "source": [
    "# assign the uk_food database to a variable name\n",
    "db = mongo.uk_food"
   ]
  },
  {
   "cell_type": "code",
   "execution_count": 4,
   "id": "18ab463c",
   "metadata": {},
   "outputs": [
    {
     "name": "stdout",
     "output_type": "stream",
     "text": [
      "['establishments']\n"
     ]
    }
   ],
   "source": [
    "# review the collections in our database\n",
    "print(db.list_collection_names())"
   ]
  },
  {
   "cell_type": "code",
   "execution_count": 51,
   "id": "11c9f11b",
   "metadata": {},
   "outputs": [],
   "source": [
    "# assign the collection to a variable\n",
    "establishments_collection = db.establishments"
   ]
  },
  {
   "cell_type": "code",
   "execution_count": 52,
   "id": "68ffce7b",
   "metadata": {},
   "outputs": [
    {
     "name": "stdout",
     "output_type": "stream",
     "text": [
      "Collection(Database(MongoClient(host=['localhost:27017'], document_class=dict, tz_aware=False, connect=True), 'uk_food'), 'establishments')\n"
     ]
    }
   ],
   "source": [
    "pprint(establishments_collection)"
   ]
  },
  {
   "cell_type": "markdown",
   "id": "d5671434",
   "metadata": {},
   "source": [
    "## Part 3: Exploratory Analysis\n",
    "Unless otherwise stated, for each question: \n",
    "* Use `count_documents` to display the number of documents contained in the result.\n",
    "* Display the first document in the results using `pprint`.\n",
    "* Convert the result to a Pandas DataFrame, print the number of rows in the DataFrame, and display the first 10 rows."
   ]
  },
  {
   "cell_type": "markdown",
   "id": "314bd884",
   "metadata": {},
   "source": [
    "### 1. Which establishments have a hygiene score equal to 20?"
   ]
  },
  {
   "cell_type": "code",
   "execution_count": 18,
   "id": "c2da7648",
   "metadata": {},
   "outputs": [
    {
     "name": "stdout",
     "output_type": "stream",
     "text": [
      "Number of establishments with a hygiene score of 20: 82\n",
      "{'AddressLine1': '5-6 Southfields Road',\n",
      " 'AddressLine2': 'Eastbourne',\n",
      " 'AddressLine3': 'East Sussex',\n",
      " 'AddressLine4': '',\n",
      " 'BusinessName': 'The Chase Rest Home',\n",
      " 'BusinessType': 'Caring Premises',\n",
      " 'BusinessTypeID': 5,\n",
      " 'ChangesByServerID': 0,\n",
      " 'Distance': 4613.888288172291,\n",
      " 'FHRSID': 110681,\n",
      " 'LocalAuthorityBusinessID': '4029',\n",
      " 'LocalAuthorityCode': '102',\n",
      " 'LocalAuthorityEmailAddress': 'Customerfirst@eastbourne.gov.uk',\n",
      " 'LocalAuthorityName': 'Eastbourne',\n",
      " 'LocalAuthorityWebSite': 'http://www.eastbourne.gov.uk/foodratings',\n",
      " 'NewRatingPending': False,\n",
      " 'Phone': '',\n",
      " 'PostCode': 'BN21 1BU',\n",
      " 'RatingDate': '2021-09-23T00:00:00',\n",
      " 'RatingKey': 'fhrs_0_en-gb',\n",
      " 'RatingValue': {'$toInt': '$RatingValue'},\n",
      " 'RightToReply': '',\n",
      " 'SchemeType': 'FHRS',\n",
      " '_id': ObjectId('65f0a327efcf265899cbacb4'),\n",
      " 'geocode': {'latitude': {'$toDouble': '$geocode.latitude'},\n",
      "             'longitude': {'$toDouble': '$geocode.longitude'}},\n",
      " 'links': [{'href': 'https://api.ratings.food.gov.uk/establishments/110681',\n",
      "            'rel': 'self'}],\n",
      " 'meta': {'dataSource': None,\n",
      "          'extractDate': '0001-01-01T00:00:00',\n",
      "          'itemCount': 0,\n",
      "          'pageNumber': 0,\n",
      "          'pageSize': 0,\n",
      "          'returncode': None,\n",
      "          'totalCount': 0,\n",
      "          'totalPages': 0},\n",
      " 'scores': {'ConfidenceInManagement': 20, 'Hygiene': 20, 'Structural': 20}}\n",
      "JSON data of the first document:\n",
      "{'AddressLine1': '5-6 Southfields Road',\n",
      " 'AddressLine2': 'Eastbourne',\n",
      " 'AddressLine3': 'East Sussex',\n",
      " 'AddressLine4': '',\n",
      " 'BusinessName': 'The Chase Rest Home',\n",
      " 'BusinessType': 'Caring Premises',\n",
      " 'BusinessTypeID': 5,\n",
      " 'ChangesByServerID': 0,\n",
      " 'Distance': 4613.888288172291,\n",
      " 'FHRSID': 110681,\n",
      " 'LocalAuthorityBusinessID': '4029',\n",
      " 'LocalAuthorityCode': '102',\n",
      " 'LocalAuthorityEmailAddress': 'Customerfirst@eastbourne.gov.uk',\n",
      " 'LocalAuthorityName': 'Eastbourne',\n",
      " 'LocalAuthorityWebSite': 'http://www.eastbourne.gov.uk/foodratings',\n",
      " 'NewRatingPending': False,\n",
      " 'Phone': '',\n",
      " 'PostCode': 'BN21 1BU',\n",
      " 'RatingDate': '2021-09-23T00:00:00',\n",
      " 'RatingKey': 'fhrs_0_en-gb',\n",
      " 'RatingValue': {'$toInt': '$RatingValue'},\n",
      " 'RightToReply': '',\n",
      " 'SchemeType': 'FHRS',\n",
      " '_id': ObjectId('65f0a327efcf265899cbacb4'),\n",
      " 'geocode': {'latitude': {'$toDouble': '$geocode.latitude'},\n",
      "             'longitude': {'$toDouble': '$geocode.longitude'}},\n",
      " 'links': [{'href': 'https://api.ratings.food.gov.uk/establishments/110681',\n",
      "            'rel': 'self'}],\n",
      " 'meta': {'dataSource': None,\n",
      "          'extractDate': '0001-01-01T00:00:00',\n",
      "          'itemCount': 0,\n",
      "          'pageNumber': 0,\n",
      "          'pageSize': 0,\n",
      "          'returncode': None,\n",
      "          'totalCount': 0,\n",
      "          'totalPages': 0},\n",
      " 'scores': {'ConfidenceInManagement': 20, 'Hygiene': 20, 'Structural': 20}}\n"
     ]
    }
   ],
   "source": [
    "# Find the establishments with a hygiene score of 20\n",
    "# query =\n",
    "\n",
    "# Use count_documents to display the number of documents in the result\n",
    "\n",
    "# Display the first document in the results using pprint\n",
    "\n",
    "# Find the establishments with a hygiene score of 20\n",
    "query = {\"scores.Hygiene\": 20}\n",
    "result = establishments_collection.find(query)\n",
    "\n",
    "# Use count_documents to display the number of documents in the result\n",
    "num_documents = establishments_collection.count_documents(query)\n",
    "print(\"Number of establishments with a hygiene score of 20:\", num_documents)\n",
    "\n",
    "# Display the first document in the results using pprint\n",
    "if num_documents > 0:\n",
    "    pprint(result[0])\n",
    "    # Print JSON data\n",
    "    print(\"JSON data of the first document:\")\n",
    "    pprint(result[0])\n",
    "else:\n",
    "    print(\"No establishments found with a hygiene score of 20.\")"
   ]
  },
  {
   "cell_type": "code",
   "execution_count": 11,
   "id": "a6e5cece",
   "metadata": {},
   "outputs": [
    {
     "name": "stdout",
     "output_type": "stream",
     "text": [
      "First 10 establishments with hygiene score equal to 20:\n",
      "                        _id   FHRSID  ChangesByServerID  \\\n",
      "0  65f0a327efcf265899cbacb4   110681                  0   \n",
      "1  65f0a327efcf265899cbb034   612039                  0   \n",
      "2  65f0a327efcf265899cbb33e   730933                  0   \n",
      "3  65f0a327efcf265899cbb52a   172735                  0   \n",
      "4  65f0a327efcf265899cbb539   172953                  0   \n",
      "5  65f0a327efcf265899cbbeda   512854                  0   \n",
      "6  65f0a327efcf265899cbc0fc  1537089                  0   \n",
      "7  65f0a327efcf265899cbd626   155648                  0   \n",
      "8  65f0a327efcf265899cbda6b  1012883                  0   \n",
      "9  65f0a327efcf265899cbe27d   644109                  0   \n",
      "\n",
      "  LocalAuthorityBusinessID               BusinessName  \\\n",
      "0                     4029        The Chase Rest Home   \n",
      "1                1970/FOOD                 Brenalwood   \n",
      "2                1698/FOOD              Melrose Hotel   \n",
      "3             PI/000023858              Seaford Pizza   \n",
      "4             PI/000024532              Golden Palace   \n",
      "5            12/00816/BUTH           Ashby's Butchers   \n",
      "6          22/00224/RESTUN  South Sea Express Cuisine   \n",
      "7              EH/00006058              Golden Palace   \n",
      "8         17/00110/MIXED/S             The Tulip Tree   \n",
      "9                    41811                      F & S   \n",
      "\n",
      "                        BusinessType  BusinessTypeID           AddressLine1  \\\n",
      "0                    Caring Premises               5   5-6 Southfields Road   \n",
      "1                    Caring Premises               5              Hall Lane   \n",
      "2  Hotel/bed & breakfast/guest house            7842  53 Marine Parade East   \n",
      "3             Takeaway/sandwich shop            7844          4 High Street   \n",
      "4            Restaurant/Cafe/Canteen               1         5 South Street   \n",
      "5                  Retailers - other            4613   777 Southchurch Road   \n",
      "6            Restaurant/Cafe/Canteen               1    33 Alexandra Street   \n",
      "7             Takeaway/sandwich shop            7844          7 London Road   \n",
      "8            Restaurant/Cafe/Canteen               1          3 The Village   \n",
      "9                  Retailers - other            4613                          \n",
      "\n",
      "         AddressLine2 AddressLine3  ...  \\\n",
      "0          Eastbourne  East Sussex  ...   \n",
      "1  Walton-on-the-Naze        Essex  ...   \n",
      "2      Clacton On Sea        Essex  ...   \n",
      "3             Seaford  East Sussex  ...   \n",
      "4             Seaford  East Sussex  ...   \n",
      "5     Southend-On-Sea        Essex  ...   \n",
      "6     Southend-on-sea        Essex  ...   \n",
      "7            Rayleigh        Essex  ...   \n",
      "8       Chiddingstone         KENT  ...   \n",
      "9      81 Southernhay     Basildon  ...   \n",
      "\n",
      "                      LocalAuthorityWebSite  \\\n",
      "0  http://www.eastbourne.gov.uk/foodratings   \n",
      "1             http://www.tendringdc.gov.uk/   \n",
      "2             http://www.tendringdc.gov.uk/   \n",
      "3       http://www.lewes-eastbourne.gov.uk/   \n",
      "4       http://www.lewes-eastbourne.gov.uk/   \n",
      "5                http://www.southend.gov.uk   \n",
      "6                http://www.southend.gov.uk   \n",
      "7                http://www.rochford.gov.uk   \n",
      "8              http://www.sevenoaks.gov.uk/   \n",
      "9                http://www.basildon.gov.uk   \n",
      "\n",
      "              LocalAuthorityEmailAddress  \\\n",
      "0        Customerfirst@eastbourne.gov.uk   \n",
      "1             fhsadmin@tendringdc.gov.uk   \n",
      "2             fhsadmin@tendringdc.gov.uk   \n",
      "3    ehealth.ldc@lewes-eastbourne.gov.uk   \n",
      "4    ehealth.ldc@lewes-eastbourne.gov.uk   \n",
      "5    EnvironmentalHealth@southend.gov.uk   \n",
      "6    EnvironmentalHealth@southend.gov.uk   \n",
      "7       customerservices@rochford.gov.uk   \n",
      "8  environmental.health@sevenoaks.gov.uk   \n",
      "9                    ehs@basildon.gov.uk   \n",
      "\n",
      "                                              scores SchemeType  \\\n",
      "0  {'Hygiene': 20, 'Structural': 20, 'ConfidenceI...       FHRS   \n",
      "1  {'Hygiene': 20, 'Structural': 15, 'ConfidenceI...       FHRS   \n",
      "2  {'Hygiene': 20, 'Structural': 20, 'ConfidenceI...       FHRS   \n",
      "3  {'Hygiene': 20, 'Structural': 10, 'ConfidenceI...       FHRS   \n",
      "4  {'Hygiene': 20, 'Structural': 10, 'ConfidenceI...       FHRS   \n",
      "5  {'Hygiene': 20, 'Structural': 20, 'ConfidenceI...       FHRS   \n",
      "6  {'Hygiene': 20, 'Structural': 20, 'ConfidenceI...       FHRS   \n",
      "7  {'Hygiene': 20, 'Structural': 15, 'ConfidenceI...       FHRS   \n",
      "8  {'Hygiene': 20, 'Structural': 5, 'ConfidenceIn...       FHRS   \n",
      "9  {'Hygiene': 20, 'Structural': 20, 'ConfidenceI...       FHRS   \n",
      "\n",
      "                                             geocode RightToReply  \\\n",
      "0  {'longitude': {'$toDouble': '$geocode.longitud...                \n",
      "1  {'longitude': {'$toDouble': '$geocode.longitud...                \n",
      "2  {'longitude': {'$toDouble': '$geocode.longitud...                \n",
      "3  {'longitude': {'$toDouble': '$geocode.longitud...                \n",
      "4  {'longitude': {'$toDouble': '$geocode.longitud...                \n",
      "5  {'longitude': {'$toDouble': '$geocode.longitud...                \n",
      "6  {'longitude': {'$toDouble': '$geocode.longitud...                \n",
      "7  {'longitude': {'$toDouble': '$geocode.longitud...                \n",
      "8  {'longitude': {'$toDouble': '$geocode.longitud...                \n",
      "9  {'longitude': {'$toDouble': '$geocode.longitud...                \n",
      "\n",
      "      Distance NewRatingPending  \\\n",
      "0  4613.888288            False   \n",
      "1  4617.965824            False   \n",
      "2  4619.656144            False   \n",
      "3  4620.421725            False   \n",
      "4  4620.437179            False   \n",
      "5  4625.565258            False   \n",
      "6  4626.200132            False   \n",
      "7  4632.276890            False   \n",
      "8  4633.934041            False   \n",
      "9  4636.552523            False   \n",
      "\n",
      "                                                meta  \\\n",
      "0  {'dataSource': None, 'extractDate': '0001-01-0...   \n",
      "1  {'dataSource': None, 'extractDate': '0001-01-0...   \n",
      "2  {'dataSource': None, 'extractDate': '0001-01-0...   \n",
      "3  {'dataSource': None, 'extractDate': '0001-01-0...   \n",
      "4  {'dataSource': None, 'extractDate': '0001-01-0...   \n",
      "5  {'dataSource': None, 'extractDate': '0001-01-0...   \n",
      "6  {'dataSource': None, 'extractDate': '0001-01-0...   \n",
      "7  {'dataSource': None, 'extractDate': '0001-01-0...   \n",
      "8  {'dataSource': None, 'extractDate': '0001-01-0...   \n",
      "9  {'dataSource': None, 'extractDate': '0001-01-0...   \n",
      "\n",
      "                                               links  \n",
      "0  [{'rel': 'self', 'href': 'https://api.ratings....  \n",
      "1  [{'rel': 'self', 'href': 'https://api.ratings....  \n",
      "2  [{'rel': 'self', 'href': 'https://api.ratings....  \n",
      "3  [{'rel': 'self', 'href': 'https://api.ratings....  \n",
      "4  [{'rel': 'self', 'href': 'https://api.ratings....  \n",
      "5  [{'rel': 'self', 'href': 'https://api.ratings....  \n",
      "6  [{'rel': 'self', 'href': 'https://api.ratings....  \n",
      "7  [{'rel': 'self', 'href': 'http://api.ratings.f...  \n",
      "8  [{'rel': 'self', 'href': 'http://api.ratings.f...  \n",
      "9  [{'rel': 'self', 'href': 'http://api.ratings.f...  \n",
      "\n",
      "[10 rows x 28 columns]\n"
     ]
    }
   ],
   "source": [
    "# Convert the result to a Pandas DataFrame\n",
    "\n",
    "# Display the number of rows in the DataFrame\n",
    "\n",
    "# Display the first 10 rows of the DataFrame\n",
    "\n",
    "# Converting results to a Pandas DataFrame and displaying the first 10 rows\n",
    "df_1 = pd.DataFrame(list(result))\n",
    "print(\"First 10 establishments with hygiene score equal to 20:\")\n",
    "print(df_1.head(10))"
   ]
  },
  {
   "cell_type": "markdown",
   "id": "0ef4395a",
   "metadata": {},
   "source": [
    "### 2. Which establishments in London have a `RatingValue` greater than or equal to 4?"
   ]
  },
  {
   "cell_type": "code",
   "execution_count": 70,
   "id": "93c63829",
   "metadata": {},
   "outputs": [
    {
     "name": "stdout",
     "output_type": "stream",
     "text": [
      "Query: {'RatingValue': {'$gte': '4'}, 'LocalAuthorityName': 'London'}\n",
      "Number of establishments in London with RatingValue >= 4: 0\n",
      "No establishments found in London with RatingValue >= 4.\n"
     ]
    }
   ],
   "source": [
    "# Find the establishments with London as the Local Authority and has a RatingValue greater than or equal to 4.\n",
    "# query =\n",
    "\n",
    "# Use count_documents to display the number of documents in the result\n",
    "\n",
    "# Display the first document in the results using pprint\n",
    "\n",
    "# Question 2\n",
    "# Find the establishments with London as the Local Authority and has a RatingValue greater than or equal to 4\n",
    "query_2 = {\"RatingValue\": {\"$gte\": \"4\"}, \"LocalAuthorityName\": \"London\"}\n",
    "result_2 = establishments_collection.find(query_2)\n",
    "\n",
    "# Display the query\n",
    "print(\"Query:\", query_2)\n",
    "\n",
    "# Use count_documents to display the number of documents in the result\n",
    "num_documents_2 = establishments_collection.count_documents(query_2)\n",
    "print(\"Number of establishments in London with RatingValue >= 4:\", num_documents_2)\n",
    "\n",
    "# Display the first document in the results using pprint if available\n",
    "if num_documents_2 > 0:\n",
    "    pprint(result_2[0])\n",
    "else:\n",
    "    print(\"No establishments found in London with RatingValue >= 4.\")\n"
   ]
  },
  {
   "cell_type": "code",
   "execution_count": 71,
   "id": "07e24ccb",
   "metadata": {},
   "outputs": [
    {
     "name": "stdout",
     "output_type": "stream",
     "text": [
      "First 10 establishments in London with RatingValue >= 4:\n",
      "Empty DataFrame\n",
      "Columns: []\n",
      "Index: []\n"
     ]
    }
   ],
   "source": [
    "# Convert the result to a Pandas DataFrame\n",
    "\n",
    "# Display the number of rows in the DataFrame\n",
    "\n",
    "# Display the first 10 rows of the DataFrame\n",
    "\n",
    "# Converting results to a Pandas DataFrame and displaying the first 10 rows\n",
    "df_2 = pd.DataFrame(list(result_2))\n",
    "print(\"First 10 establishments in London with RatingValue >= 4:\")\n",
    "print(df_2.head(10))\n",
    "\n"
   ]
  },
  {
   "attachments": {},
   "cell_type": "markdown",
   "id": "4e570caf",
   "metadata": {},
   "source": [
    "### 3. What are the top 5 establishments with a `RatingValue` rating value of 5, sorted by lowest hygiene score, nearest to the new restaurant added, \"Penang Flavours\"?"
   ]
  },
  {
   "cell_type": "code",
   "execution_count": 62,
   "id": "7f599f3d",
   "metadata": {},
   "outputs": [
    {
     "name": "stdout",
     "output_type": "stream",
     "text": [
      "Top 5 establishments with RatingValue of 5, sorted by lowest hygiene score, nearest to Penang Flavours:\n",
      "[]\n"
     ]
    }
   ],
   "source": [
    "# Search within 0.01 degree on either side of the latitude and longitude.\n",
    "# Rating value must equal 5\n",
    "# Sort by hygiene score\n",
    "\n",
    "#degree_search = 0.01\n",
    "#latitude = \n",
    "#longitude = \n",
    "\n",
    "#query = \n",
    "#sort =  \n",
    "\n",
    "# Print the results\n",
    "\n",
    "# Question 3\n",
    "# What are the top 5 establishments with a RatingValue of 5, sorted by lowest hygiene score, nearest to \"Penang Flavours\" restaurant?\n",
    "# Find the Penang Flavours restaurant\n",
    "penang_flavours = establishments_collection.find_one({\"BusinessName\": \"Penang Flavours\"})\n",
    "\n",
    "# Check if the Penang Flavours restaurant is found\n",
    "if penang_flavours:\n",
    "    # Check if geocode information is available\n",
    "    if 'geocode' in penang_flavours:\n",
    "        penang_flavours_geocode = penang_flavours['geocode']\n",
    "        # Access the latitude and longitude values from the inner dictionaries\n",
    "        latitude_pf = (penang_flavours_geocode['latitude']['$toDouble'])\n",
    "        longitude_pf = (penang_flavours_geocode['longitude']['$toDouble'])\n",
    "\n",
    "        # Define the query to find establishments near Penang Flavours with RatingValue of 5\n",
    "        query_3 = {\n",
    "            \"RatingValue\": \"5\",\n",
    "            \"geocode.latitude\": {'$gte': \"latitude_pf - 0.01\", \"$lte\": \"latitude_pf + 0.01\"},\n",
    "            \"geocode.longitude\": {'$gte': \"longitude_pf - 0.01\", \"$lte\": \"longitude_pf + 0.01\"}\n",
    "        }\n",
    "        # Define the projection to include only BusinessName and hygiene score\n",
    "        projection_3 = {\"BusinessName\": \"1\", \"scores.Hygiene\": 1}\n",
    "        # Sort the results by hygiene score in ascending order\n",
    "        sort_3 = [(\"scores.Hygiene\", 1)]\n",
    "        # Execute the query and limit the results to 5\n",
    "        result_3 = establishments_collection.find(query_3, projection_3).sort(sort_3).limit(5)\n",
    "\n",
    "        # Print the results\n",
    "        print(\"Top 5 establishments with RatingValue of 5, sorted by lowest hygiene score, nearest to Penang Flavours:\")\n",
    "        pprint(list(result_3))\n",
    "    else:\n",
    "        print(\"Geocode information missing for Penang Flavours restaurant.\")\n",
    "else:\n",
    "    print(\"Penang Flavours restaurant not found.\")\n",
    "\n"
   ]
  },
  {
   "cell_type": "code",
   "execution_count": 72,
   "id": "a6ad16f7",
   "metadata": {},
   "outputs": [
    {
     "name": "stdout",
     "output_type": "stream",
     "text": [
      "Top 5 establishments with RatingValue of 5, sorted by lowest hygiene score, nearest to Penang Flavours:\n",
      "Empty DataFrame\n",
      "Columns: []\n",
      "Index: []\n"
     ]
    }
   ],
   "source": [
    "# Convert result to Pandas DataFrame\n",
    "# Converting results to a Pandas DataFrame and displaying\n",
    "df_3 = pd.DataFrame(list(result_3))\n",
    "print(\"Top 5 establishments with RatingValue of 5, sorted by lowest hygiene score, nearest to Penang Flavours:\")\n",
    "print(df_3)"
   ]
  },
  {
   "cell_type": "markdown",
   "id": "67281254",
   "metadata": {},
   "source": [
    "### 4. How many establishments in each Local Authority area have a hygiene score of 0?"
   ]
  },
  {
   "cell_type": "code",
   "execution_count": 88,
   "id": "4eeb227e",
   "metadata": {},
   "outputs": [],
   "source": [
    "# Create a pipeline that: \n",
    "# 1. Matches establishments with a hygiene score of 0\n",
    "# 2. Groups the matches by Local Authority\n",
    "# 3. Sorts the matches from highest to lowest\n",
    "\n",
    "# Print the number of documents in the result\n",
    "\n",
    "# Print the first 10 results\n",
    "# Question 4\n",
    "# How many establishments in each Local Authority area have a hygiene score of 0?\n",
    "pipeline_4 = [\n",
    "    {\"$match\": {\"scores.Hygiene\": 0}},\n",
    "    {\"$group\": {\"_id\": \"$LocalAuthorityName\", \"count\": {\"$sum\": 1}}},\n",
    "    {\"$sort\": {\"count\": -1}},\n",
    "    {\"$limit\": 10}\n",
    "]\n",
    "result_4 = establishments_collection.aggregate(pipeline_4)"
   ]
  },
  {
   "cell_type": "code",
   "execution_count": 89,
   "id": "d8aab364",
   "metadata": {},
   "outputs": [
    {
     "name": "stdout",
     "output_type": "stream",
     "text": [
      "               _id  count\n",
      "0           Thanet   2260\n",
      "1        Greenwich   1764\n",
      "2        Maidstone   1426\n",
      "3           Newham   1422\n",
      "4            Swale   1372\n",
      "5       Chelmsford   1360\n",
      "6           Medway   1344\n",
      "7           Bexley   1214\n",
      "8  Southend-On-Sea   1172\n",
      "9         Tendring   1084\n"
     ]
    }
   ],
   "source": [
    "# Convert the result to a Pandas DataFrame\n",
    "\n",
    "# Display the number of rows in the DataFrame\n",
    "\n",
    "# Display the first 10 rows of the DataFrame\n",
    "# Convert the aggregation result into a list of dictionaries\n",
    "aggregation_result = list(result_4)\n",
    "\n",
    "# Create a Pandas DataFrame from the list of dictionaries\n",
    "df_4 = pd.DataFrame(aggregation_result)\n",
    "\n",
    "# Print the DataFrame\n",
    "print(df_4)"
   ]
  }
 ],
 "metadata": {
  "kernelspec": {
   "display_name": "Python 3 (ipykernel)",
   "language": "python",
   "name": "python3"
  },
  "language_info": {
   "codemirror_mode": {
    "name": "ipython",
    "version": 3
   },
   "file_extension": ".py",
   "mimetype": "text/x-python",
   "name": "python",
   "nbconvert_exporter": "python",
   "pygments_lexer": "ipython3",
   "version": "3.10.13"
  }
 },
 "nbformat": 4,
 "nbformat_minor": 5
}
